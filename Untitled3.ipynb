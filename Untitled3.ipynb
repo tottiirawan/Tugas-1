{
 "cells": [
  {
   "cell_type": "code",
   "execution_count": 2,
   "id": "0e5a81a4-854a-4268-80f3-2eeff6d7efdf",
   "metadata": {},
   "outputs": [
    {
     "name": "stdout",
     "output_type": "stream",
     "text": [
      "Selamat datang di Aplikasi perhitungan nilai Mahasiswa\n",
      "=======================================\n"
     ]
    },
    {
     "name": "stdin",
     "output_type": "stream",
     "text": [
      "Silahkan Masukkan nilai Tugas Anda:  89\n",
      "Silahkan Masukkan nilai UTS Anda:  90\n",
      "Silahkan Masukkan nilai UAS Anda:  90\n"
     ]
    },
    {
     "name": "stdout",
     "output_type": "stream",
     "text": [
      "Nilai Akhir Anda: 89.75\n",
      "Dalam Huruf: A\n"
     ]
    }
   ],
   "source": [
    "def hitung_nilai_akhir(tugas, uts, uas):\n",
    "    nilai_akhir = (0.25 * tugas) + (0.35 * uts) + (0.40 * uas)\n",
    "    return nilai_akhir\n",
    "\n",
    "def tentukan_nilai_huruf(nilai_akhir):\n",
    "    if nilai_akhir > 85:\n",
    "        return \"A\"\n",
    "    elif nilai_akhir > 80:\n",
    "        return \"A-\"\n",
    "    elif nilai_akhir > 75:\n",
    "        return \"B+\"\n",
    "    elif nilai_akhir > 70:\n",
    "        return \"B\"\n",
    "    elif nilai_akhir > 65:\n",
    "        return \"B-\"\n",
    "    elif nilai_akhir > 60:\n",
    "        return \"C+\"\n",
    "    elif nilai_akhir > 55:\n",
    "        return \"C\"\n",
    "    elif nilai_akhir > 50:\n",
    "        return \"C-\"\n",
    "    elif nilai_akhir > 30:\n",
    "        return \"D\"\n",
    "    else:\n",
    "        return \"E\"\n",
    "\n",
    "def main():\n",
    "    print(\"Selamat datang di Aplikasi perhitungan nilai Mahasiswa\")\n",
    "    print(\"=======================================\")\n",
    "    tugas = float(input(\"Silahkan Masukkan nilai Tugas Anda: \"))\n",
    "    uts = float(input(\"Silahkan Masukkan nilai UTS Anda: \"))\n",
    "    uas = float(input(\"Silahkan Masukkan nilai UAS Anda: \"))\n",
    "\n",
    "    nilai_akhir = hitung_nilai_akhir(tugas, uts, uas)\n",
    "    \n",
    "    nilai_huruf = tentukan_nilai_huruf(nilai_akhir)\n",
    "    \n",
    "    print(f\"Nilai Akhir Anda: {nilai_akhir:.2f}\")\n",
    "    print(f\"Dalam Huruf: {nilai_huruf}\")\n",
    "\n",
    "if __name__ == \"__main__\":\n",
    "    main()\n"
   ]
  },
  {
   "cell_type": "code",
   "execution_count": null,
   "id": "d2eeaddf-6d9f-4644-9242-2aeda2414531",
   "metadata": {},
   "outputs": [],
   "source": []
  }
 ],
 "metadata": {
  "kernelspec": {
   "display_name": "Python 3 (ipykernel)",
   "language": "python",
   "name": "python3"
  },
  "language_info": {
   "codemirror_mode": {
    "name": "ipython",
    "version": 3
   },
   "file_extension": ".py",
   "mimetype": "text/x-python",
   "name": "python",
   "nbconvert_exporter": "python",
   "pygments_lexer": "ipython3",
   "version": "3.8.0"
  }
 },
 "nbformat": 4,
 "nbformat_minor": 5
}
